{
 "cells": [
  {
   "cell_type": "code",
   "execution_count": 1,
   "id": "b6012f74",
   "metadata": {},
   "outputs": [
    {
     "name": "stdout",
     "output_type": "stream",
     "text": [
      "Requirement already satisfied: ascon in c:\\anaconda3\\lib\\site-packages (0.0.9)\n",
      "Note: you may need to restart the kernel to use updated packages.\n"
     ]
    }
   ],
   "source": [
    "pip install ascon"
   ]
  },
  {
   "cell_type": "code",
   "execution_count": 1,
   "id": "c6fa572e",
   "metadata": {},
   "outputs": [
    {
     "name": "stdout",
     "output_type": "stream",
     "text": [
      "Alexa Smart Speaker - Encrypted data: 325e7fe5caad844ece82d9a928b99996a89f13c4e3e54a70625423f5b8a175357b5728d0ab8c6e3da036d8e7dc8461d5f1f600d4562c604e7de61a4e67c2694259f5351ca7b0eaa176fbe80889b4c275ac397857dd23b8\n",
      "Nest Smart Thermometer - Encrypted data: e5b26233e1967ccdc2329c062147c0d3947e3f4a58d4ae50a6bb3c630af25fbf67dbec1f8c51f69d7d6f3b6b8250e9d640a87905f5efdfd4228461c50a033d\n",
      "Philips hue smart lights - Encrypted data: 98aac0758eca41665ad1d527c8969222aa17333eba2d654a353e7b43dc668c6f2c5fe15f384d27cd0d1d287ce0\n",
      "Panamalar smart garge door alarm system - Encrypted data: b7abb6a7a67297d0509a2175295c5cc4904a23a79d9414eecfc4a07f3ab8545e3fb1fc463b64\n",
      "Alexa Smart Speaker - Decrypted data: Alexa, can you play my favorite song: 'Stop Breathing' by Playboi Carti\n",
      "Nest Smart Thermometer - Decrypted data: The Temperature is set at: 24°C, Humidity: 55%\n",
      "Philips hue smart lights - Decrypted data: Dim Living room lights to 60%\n",
      "Panamalar smart garge door alarm system - Decrypted data: The garage door closed\n"
     ]
    }
   ],
   "source": [
    "import os \n",
    "\n",
    "from ascon import encrypt, decrypt \n",
    "\n",
    "#this section shows the 128 bit key and 128 bit nonce \n",
    "\n",
    "key = os.urandom(16)  # this is the 128-bit key \n",
    "\n",
    "nonce = os.urandom(16)  # this is the 128-bit nonce \n",
    "\n",
    "  \n",
    "\n",
    "def encrypt_data(plaintext, associated_data):#this section encrypts the plaintext and the associated data with Ascon v1,2 \n",
    "\n",
    "    ciphertext = encrypt(key, nonce, associated_data, plaintext, variant=\"Ascon-128\") \n",
    "\n",
    "    return ciphertext \n",
    "\n",
    "  \n",
    "\n",
    "def decrypt_data(ciphertext, associated_data): #this section decrypts the ciphertext data and the associated data with Ascon v1.2\n",
    "\n",
    "\n",
    "    plaintext = decrypt(key, nonce, associated_data, ciphertext, variant=\"Ascon-128\") \n",
    "\n",
    "    return plaintext \n",
    "\n",
    "  \n",
    "\n",
    "#Alexa smart speaker data\n",
    "\n",
    "Alexa_smart_speaker_data = \"Alexa, can you play my favorite song: 'Stop Breathing' by Playboi Carti\" \n",
    "\n",
    "associated_data_smart_speaker = b\"Alexa Smart Speaker\" \n",
    "\n",
    "  \n",
    "\n",
    "#Nest smart thermometer data\n",
    "\n",
    "Nest_smart_thermometer_data = \"The Temperature is set at: 24°C, Humidity: 55%\" \n",
    "\n",
    "associated_data_Nest_thermometer = b\"Nest Smart Thermometer\" \n",
    "\n",
    "  \n",
    "\n",
    "#Philips hue smart lights data\n",
    "\n",
    "Philips_Hue_smart_lights_data = \"Dim Living room lights to 60%\" \n",
    "\n",
    "associated_data_Philips_Hue_lights = b\"Philip Hue Smart Lights\" \n",
    "\n",
    "\n",
    "#Panamalar smart garge door alarm system data\n",
    "Panamalar_smart_garage_door_alarm_data = \"The garage door closed\"\n",
    "associated_data_garage_door_alarm = b\"smart garage door alarm\"\n",
    "\n",
    "  \n",
    "\n",
    "# Encrypt and decrypt data for each device \n",
    "\n",
    "encrypted_speaker = encrypt_data(Alexa_smart_speaker_data.encode(\"utf-8\"), associated_data_smart_speaker) \n",
    "\n",
    "decrypted_speaker = decrypt_data(encrypted_speaker, associated_data_smart_speaker) \n",
    "\n",
    "  \n",
    "\n",
    "encrypted_thermometer = encrypt_data(Nest_smart_thermometer_data.encode(\"utf-8\"), associated_data_Nest_thermometer) \n",
    "\n",
    "decrypted_thermometer = decrypt_data(encrypted_thermometer, associated_data_Nest_thermometer) \n",
    "\n",
    "  \n",
    "\n",
    "encrypted_lights = encrypt_data(Philips_Hue_smart_lights_data.encode(\"utf-8\"), associated_data_Philips_Hue_lights) \n",
    "\n",
    "decrypted_lights = decrypt_data(encrypted_lights, associated_data_Philips_Hue_lights) \n",
    "\n",
    "\n",
    "encrypted_garage_door_alarm = encrypt_data(Panamalar_smart_garage_door_alarm_data.encode(\"utf-8\"), associated_data_garage_door_alarm) \n",
    "\n",
    "decrypted_garage_door_alarm = decrypt_data(encrypted_garage_door_alarm, associated_data_garage_door_alarm) \n",
    "\n",
    "  \n",
    "\n",
    "print(f\"Alexa Smart Speaker - Encrypted data: {encrypted_speaker.hex()}\") \n",
    "print(f\"Nest Smart Thermometer - Encrypted data: {encrypted_thermometer.hex()}\") \n",
    "print(f\"Philips hue smart lights - Encrypted data: {encrypted_lights.hex()}\") \n",
    "print(f\"Panamalar smart garge door alarm system - Encrypted data: {encrypted_garage_door_alarm.hex()}\") \n",
    "\n",
    "print(f\"Alexa Smart Speaker - Decrypted data: {decrypted_speaker.decode('utf-8')}\") \n",
    "print(f\"Nest Smart Thermometer - Decrypted data: {decrypted_thermometer.decode('utf-8')}\") \n",
    "print(f\"Philips hue smart lights - Decrypted data: {decrypted_lights.decode('utf-8')}\")  \n",
    "print(f\"Panamalar smart garge door alarm system - Decrypted data: {decrypted_garage_door_alarm.decode('utf-8')}\") "
   ]
  },
  {
   "cell_type": "code",
   "execution_count": null,
   "id": "029fa7ed",
   "metadata": {},
   "outputs": [],
   "source": []
  }
 ],
 "metadata": {
  "kernelspec": {
   "display_name": "Python 3 (ipykernel)",
   "language": "python",
   "name": "python3"
  },
  "language_info": {
   "codemirror_mode": {
    "name": "ipython",
    "version": 3
   },
   "file_extension": ".py",
   "mimetype": "text/x-python",
   "name": "python",
   "nbconvert_exporter": "python",
   "pygments_lexer": "ipython3",
   "version": "3.11.5"
  }
 },
 "nbformat": 4,
 "nbformat_minor": 5
}
